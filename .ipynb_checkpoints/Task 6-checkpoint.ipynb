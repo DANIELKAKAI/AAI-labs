{
 "cells": [
  {
   "cell_type": "code",
   "execution_count": 342,
   "id": "401a7c06",
   "metadata": {},
   "outputs": [],
   "source": [
    "import pandas as pd"
   ]
  },
  {
   "cell_type": "code",
   "execution_count": 343,
   "id": "da37514b",
   "metadata": {},
   "outputs": [],
   "source": [
    "df = pd.read_excel('WEOOct2020all.xls', engine='xlrd')"
   ]
  },
  {
   "cell_type": "code",
   "execution_count": 344,
   "id": "eeae866f",
   "metadata": {},
   "outputs": [],
   "source": [
    "ls = [df]\n",
    "for df in ls:df.loc[(df['Subject Descriptor'] == 'Gross domestic product per capita, current prices') & (df['Units'] == 'Purchasing power parity; international dollars'), 'Subject Descriptor'] = 'GDP'"
   ]
  },
  {
   "cell_type": "code",
   "execution_count": 345,
   "id": "b637e2d6",
   "metadata": {},
   "outputs": [],
   "source": [
    "columns = ['Country','Subject Descriptor'] + [i for i in range(1980, 2026)]\n",
    "df = df[columns].copy()"
   ]
  },
  {
   "cell_type": "code",
   "execution_count": 346,
   "id": "018cfe9a",
   "metadata": {},
   "outputs": [],
   "source": [
    "df = df[~df.apply(lambda row: row.astype(str).str.contains('Gross domestic product')).any(axis=1)]\n",
    "df = df[~df.apply(lambda row: row.astype(str).str.contains('Output gap in percent of potential GDP')).any(axis=1)]"
   ]
  },
  {
   "cell_type": "code",
   "execution_count": 347,
   "id": "ec02a079",
   "metadata": {},
   "outputs": [
    {
     "name": "stderr",
     "output_type": "stream",
     "text": [
      "S„o TomÈ and PrÌncipe not found in regex\n",
      "S„o TomÈ and PrÌncipe not found in regex\n",
      "S„o TomÈ and PrÌncipe not found in regex\n",
      "S„o TomÈ and PrÌncipe not found in regex\n",
      "S„o TomÈ and PrÌncipe not found in regex\n",
      "S„o TomÈ and PrÌncipe not found in regex\n",
      "S„o TomÈ and PrÌncipe not found in regex\n",
      "S„o TomÈ and PrÌncipe not found in regex\n",
      "S„o TomÈ and PrÌncipe not found in regex\n",
      "S„o TomÈ and PrÌncipe not found in regex\n",
      "S„o TomÈ and PrÌncipe not found in regex\n",
      "S„o TomÈ and PrÌncipe not found in regex\n",
      "S„o TomÈ and PrÌncipe not found in regex\n",
      "S„o TomÈ and PrÌncipe not found in regex\n",
      "S„o TomÈ and PrÌncipe not found in regex\n",
      "S„o TomÈ and PrÌncipe not found in regex\n",
      "S„o TomÈ and PrÌncipe not found in regex\n",
      "S„o TomÈ and PrÌncipe not found in regex\n",
      "S„o TomÈ and PrÌncipe not found in regex\n",
      "S„o TomÈ and PrÌncipe not found in regex\n",
      "S„o TomÈ and PrÌncipe not found in regex\n",
      "S„o TomÈ and PrÌncipe not found in regex\n",
      "S„o TomÈ and PrÌncipe not found in regex\n",
      "S„o TomÈ and PrÌncipe not found in regex\n",
      "S„o TomÈ and PrÌncipe not found in regex\n",
      "S„o TomÈ and PrÌncipe not found in regex\n",
      "S„o TomÈ and PrÌncipe not found in regex\n",
      "S„o TomÈ and PrÌncipe not found in regex\n",
      "S„o TomÈ and PrÌncipe not found in regex\n",
      "S„o TomÈ and PrÌncipe not found in regex\n",
      "S„o TomÈ and PrÌncipe not found in regex\n",
      "S„o TomÈ and PrÌncipe not found in regex\n",
      "nan not found in ISO3\n",
      "nan not found in ISO3\n"
     ]
    }
   ],
   "source": [
    "from country_converter import CountryConverter\n",
    "cc = CountryConverter()\n",
    "df['Country'] = df['Country'].astype(str)\n",
    "df['Continent'] = df['Country'].apply(lambda x: cc.convert(x, to='continent', not_found=None))\n",
    "#df.head()"
   ]
  },
  {
   "cell_type": "code",
   "execution_count": 348,
   "id": "0699bc19",
   "metadata": {},
   "outputs": [],
   "source": [
    "df = df.drop(['Country'], axis=1)"
   ]
  },
  {
   "cell_type": "code",
   "execution_count": 354,
   "id": "33fd9f06",
   "metadata": {},
   "outputs": [],
   "source": [
    "csv_file_path = 'data.csv'\n",
    "df.to_csv(csv_file_path, index=False)"
   ]
  },
  {
   "cell_type": "code",
   "execution_count": 353,
   "id": "48d041cf",
   "metadata": {},
   "outputs": [
    {
     "name": "stdout",
     "output_type": "stream",
     "text": [
      "GDP prediction\n",
      "463.94396466495033\n"
     ]
    }
   ],
   "source": [
    "from sklearn.linear_model import LinearRegression\n",
    "from sklearn.impute import SimpleImputer\n",
    "from sklearn.preprocessing import OneHotEncoder\n",
    "from sklearn.compose import ColumnTransformer\n",
    "\n",
    "X = df[['Continent', 'Subject Descriptor']]\n",
    "y = df[[i for i in range(1980,2026)]] \n",
    "\n",
    "y = y.apply(pd.to_numeric, errors='coerce')\n",
    "\n",
    "imputer = SimpleImputer(strategy='mean')\n",
    "y_imputed = imputer.fit_transform(y)\n",
    "\n",
    "ct = ColumnTransformer(transformers=[('encoder', OneHotEncoder(), ['Continent', 'Subject Descriptor'])], remainder='passthrough')\n",
    "X_encoded = ct.fit_transform(X)\n",
    "\n",
    "model = LinearRegression()\n",
    "model.fit(X_encoded, y_imputed)\n",
    "\n",
    "sample_input = pd.DataFrame({'Subject Descriptor':['Gross national savings', 'Population'],2023:[1,1.188], 'Continent': 'Asia' })\n",
    "sample_input_encoded = ct.transform(sample_input)\n",
    "predictions = model.predict(sample_input_encoded)\n",
    "\n",
    "print(\"GDP prediction\")\n",
    "print(predictions[0][0])\n"
   ]
  },
  {
   "cell_type": "code",
   "execution_count": 350,
   "id": "f2600667",
   "metadata": {},
   "outputs": [
    {
     "data": {
      "text/plain": [
       "['gdp_model.sav']"
      ]
     },
     "execution_count": 350,
     "metadata": {},
     "output_type": "execute_result"
    }
   ],
   "source": [
    "import joblib\n",
    "filename = 'gdp_model.sav'\n",
    "joblib.dump(model, filename)\n"
   ]
  }
 ],
 "metadata": {
  "kernelspec": {
   "display_name": "myenv",
   "language": "python",
   "name": "myenv"
  },
  "language_info": {
   "codemirror_mode": {
    "name": "ipython",
    "version": 3
   },
   "file_extension": ".py",
   "mimetype": "text/x-python",
   "name": "python",
   "nbconvert_exporter": "python",
   "pygments_lexer": "ipython3",
   "version": "3.9.13"
  }
 },
 "nbformat": 4,
 "nbformat_minor": 5
}
